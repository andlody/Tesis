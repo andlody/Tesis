{
 "cells": [
  {
   "cell_type": "code",
   "execution_count": 29,
   "id": "25983cb2",
   "metadata": {},
   "outputs": [
    {
     "data": {
      "text/html": [
       "<div>\n",
       "<style scoped>\n",
       "    .dataframe tbody tr th:only-of-type {\n",
       "        vertical-align: middle;\n",
       "    }\n",
       "\n",
       "    .dataframe tbody tr th {\n",
       "        vertical-align: top;\n",
       "    }\n",
       "\n",
       "    .dataframe thead th {\n",
       "        text-align: right;\n",
       "    }\n",
       "</style>\n",
       "<table border=\"1\" class=\"dataframe\">\n",
       "  <thead>\n",
       "    <tr style=\"text-align: right;\">\n",
       "      <th></th>\n",
       "      <th>CHUNK_PRODUCTO</th>\n",
       "      <th>PREGUNTA</th>\n",
       "      <th>ES_ABIERTA</th>\n",
       "      <th>RESPUESTA</th>\n",
       "    </tr>\n",
       "  </thead>\n",
       "  <tbody>\n",
       "    <tr>\n",
       "      <th>0</th>\n",
       "      <td>sikaflex 221 blanco x 600 ml de la marca sika ...</td>\n",
       "      <td>¿Qué beneficios ofrece el producto sikaflex 22...</td>\n",
       "      <td>1</td>\n",
       "      <td>El producto sikaflex 221 blanco x 600 ml de la...</td>\n",
       "    </tr>\n",
       "    <tr>\n",
       "      <th>1</th>\n",
       "      <td>maceta cuadr piedra 30x30x30cm con sist. riego...</td>\n",
       "      <td>¿Por qué elegir el producto maceta cuadr piedr...</td>\n",
       "      <td>1</td>\n",
       "      <td>El producto maceta cuadr piedra 30x30x30cm con...</td>\n",
       "    </tr>\n",
       "    <tr>\n",
       "      <th>2</th>\n",
       "      <td>cuchilla plastica econo de la marca home tools...</td>\n",
       "      <td>¿Se puede usar el producto cuchilla plastica e...</td>\n",
       "      <td>0</td>\n",
       "      <td>Sí, en la mayoría de los casos.</td>\n",
       "    </tr>\n",
       "    <tr>\n",
       "      <th>3</th>\n",
       "      <td>coladera redonda abs con rejilla cromada abs d...</td>\n",
       "      <td>¿Qué características destacan del producto col...</td>\n",
       "      <td>1</td>\n",
       "      <td>El producto coladera redonda abs con rejilla c...</td>\n",
       "    </tr>\n",
       "    <tr>\n",
       "      <th>4</th>\n",
       "      <td>guirnalda de pompones blancos 1.8m c.natural d...</td>\n",
       "      <td>¿Se puede usar el producto guirnalda de pompon...</td>\n",
       "      <td>0</td>\n",
       "      <td>Depende del modelo.</td>\n",
       "    </tr>\n",
       "  </tbody>\n",
       "</table>\n",
       "</div>"
      ],
      "text/plain": [
       "                                      CHUNK_PRODUCTO  \\\n",
       "0  sikaflex 221 blanco x 600 ml de la marca sika ...   \n",
       "1  maceta cuadr piedra 30x30x30cm con sist. riego...   \n",
       "2  cuchilla plastica econo de la marca home tools...   \n",
       "3  coladera redonda abs con rejilla cromada abs d...   \n",
       "4  guirnalda de pompones blancos 1.8m c.natural d...   \n",
       "\n",
       "                                            PREGUNTA  ES_ABIERTA  \\\n",
       "0  ¿Qué beneficios ofrece el producto sikaflex 22...           1   \n",
       "1  ¿Por qué elegir el producto maceta cuadr piedr...           1   \n",
       "2  ¿Se puede usar el producto cuchilla plastica e...           0   \n",
       "3  ¿Qué características destacan del producto col...           1   \n",
       "4  ¿Se puede usar el producto guirnalda de pompon...           0   \n",
       "\n",
       "                                           RESPUESTA  \n",
       "0  El producto sikaflex 221 blanco x 600 ml de la...  \n",
       "1  El producto maceta cuadr piedra 30x30x30cm con...  \n",
       "2                    Sí, en la mayoría de los casos.  \n",
       "3  El producto coladera redonda abs con rejilla c...  \n",
       "4                                Depende del modelo.  "
      ]
     },
     "execution_count": 29,
     "metadata": {},
     "output_type": "execute_result"
    }
   ],
   "source": [
    "import pandas as pd\n",
    "df = pd.read_csv(\"procesos/productos_preguntas_completado.csv\",delimiter=\",\")\n",
    "df.head()"
   ]
  },
  {
   "cell_type": "code",
   "execution_count": 34,
   "id": "093b1a27",
   "metadata": {},
   "outputs": [],
   "source": [
    "df_train = df.iloc[:400]\n",
    "df_test  = df.iloc[400:]"
   ]
  },
  {
   "cell_type": "code",
   "execution_count": 35,
   "id": "0ef596be",
   "metadata": {},
   "outputs": [
    {
     "name": "stdout",
     "output_type": "stream",
     "text": [
      "Iteración 1, pérdida: 2.3446\n",
      "Iteración 2, pérdida: 0.0000\n",
      "Iteración 3, pérdida: 0.0000\n",
      "Iteración 4, pérdida: 0.0000\n",
      "Iteración 5, pérdida: 0.0000\n",
      "Iteración 6, pérdida: 0.0000\n",
      "Iteración 7, pérdida: 0.0000\n",
      "Iteración 8, pérdida: 0.0000\n",
      "Iteración 9, pérdida: 0.0000\n",
      "Iteración 10, pérdida: 0.0000\n",
      "Iteración 11, pérdida: 0.0000\n",
      "Iteración 12, pérdida: 0.0000\n",
      "Iteración 13, pérdida: 0.0000\n",
      "Iteración 14, pérdida: 0.0000\n",
      "Iteración 15, pérdida: 0.0000\n",
      "Iteración 16, pérdida: 0.0000\n",
      "Iteración 17, pérdida: 0.0000\n",
      "Iteración 18, pérdida: 0.0000\n",
      "Iteración 19, pérdida: 0.0000\n",
      "Iteración 20, pérdida: 0.0000\n",
      "Iteración 21, pérdida: 0.0000\n",
      "Iteración 22, pérdida: 0.0000\n",
      "Iteración 23, pérdida: 0.0000\n",
      "Iteración 24, pérdida: 0.0000\n",
      "Iteración 25, pérdida: 0.0000\n",
      "Iteración 26, pérdida: 0.0000\n",
      "Iteración 27, pérdida: 0.0000\n",
      "Iteración 28, pérdida: 0.0000\n",
      "Iteración 29, pérdida: 0.0000\n",
      "Iteración 30, pérdida: 0.0000\n",
      "Iteración 31, pérdida: 0.0000\n",
      "Iteración 32, pérdida: 0.0000\n",
      "Iteración 33, pérdida: 0.0000\n",
      "Iteración 34, pérdida: 0.0000\n",
      "Iteración 35, pérdida: 0.0000\n",
      "Iteración 36, pérdida: 0.0000\n",
      "Iteración 37, pérdida: 0.0000\n",
      "Iteración 38, pérdida: 0.0000\n",
      "Iteración 39, pérdida: 0.0000\n",
      "Iteración 40, pérdida: 0.0000\n",
      "Iteración 41, pérdida: 0.0000\n",
      "Iteración 42, pérdida: 0.0000\n",
      "Iteración 43, pérdida: 0.0000\n",
      "Iteración 44, pérdida: 0.0000\n",
      "Iteración 45, pérdida: 0.0000\n",
      "Iteración 46, pérdida: 0.0000\n",
      "Iteración 47, pérdida: 0.0000\n",
      "Iteración 48, pérdida: 0.0000\n",
      "Iteración 49, pérdida: 0.0000\n",
      "Iteración 50, pérdida: 0.0000\n"
     ]
    }
   ],
   "source": [
    "import spacy\n",
    "from spacy.training.example import Example\n",
    "from spacy.util import minibatch, compounding\n",
    "import random\n",
    "\n",
    "# Preparar datos para entrenamiento\n",
    "train_data = []\n",
    "for _, row in df_train.iterrows():\n",
    "    texto = row[\"PREGUNTA\"]\n",
    "    es_abierto = row[\"ES_ABIERTA\"]\n",
    "    labels = {\n",
    "        \"cats\": {\n",
    "            \"abierta\": float(es_abierto == 1),\n",
    "            \"cerrada\": float(es_abierto == 0)\n",
    "        }\n",
    "    }\n",
    "    train_data.append((texto, labels))\n",
    "\n",
    "# Crear modelo en blanco (sin necesidad de conexión)\n",
    "#nlp = spacy.blank(\"es\")\n",
    "nlp = spacy.load(\"es_core_news_sm\", disable=[\"lemmatizer\"])\n",
    "textcat = nlp.add_pipe(\"textcat\")\n",
    "textcat.add_label(\"abierta\")\n",
    "textcat.add_label(\"cerrada\")\n",
    "\n",
    "# Entrenar el modelo\n",
    "optimizer = nlp.initialize()\n",
    "for i in range(50): #Numero de iteracciones\n",
    "    random.shuffle(train_data)\n",
    "    losses = {}\n",
    "    batches = minibatch(train_data, size=compounding(4.0, 16.0, 1.001))\n",
    "    for batch in batches:\n",
    "        examples = [Example.from_dict(nlp.make_doc(text), labels) for text, labels in batch]\n",
    "        nlp.update(examples, sgd=optimizer, losses=losses)\n",
    "    print(f\"Iteración {i+1}, pérdida: {losses['textcat']:.4f}\")\n",
    "\n",
    "# Guardar el modelo\n",
    "nlp.to_disk(\"modelos/spacy_abierto_cerrado\")"
   ]
  },
  {
   "cell_type": "code",
   "execution_count": 37,
   "id": "0dc3351f",
   "metadata": {},
   "outputs": [
    {
     "name": "stderr",
     "output_type": "stream",
     "text": [
      "/Library/Frameworks/Python.framework/Versions/3.10/lib/python3.10/site-packages/spacy/pipeline/attributeruler.py:137: UserWarning: [W036] The component 'matcher' does not have any patterns defined.\n",
      "  matches = self.matcher(doc, allow_missing=True, as_spans=False)\n"
     ]
    },
    {
     "name": "stdout",
     "output_type": "stream",
     "text": [
      "\n",
      "--- Reporte de clasificación ---\n",
      "              precision    recall  f1-score   support\n",
      "\n",
      "     abierta       1.00      1.00      1.00        49\n",
      "     cerrada       1.00      1.00      1.00        51\n",
      "\n",
      "    accuracy                           1.00       100\n",
      "   macro avg       1.00      1.00      1.00       100\n",
      "weighted avg       1.00      1.00      1.00       100\n",
      "\n"
     ]
    },
    {
     "data": {
      "image/png": "[encoded data removed]",
      "text/plain": [
       "<Figure size 640x480 with 2 Axes>"
      ]
     },
     "metadata": {},
     "output_type": "display_data"
    }
   ],
   "source": [
    "import seaborn as sns\n",
    "import matplotlib.pyplot as plt\n",
    "from sklearn.metrics import classification_report, confusion_matrix\n",
    "\n",
    "# 🔹 Evaluación en test\n",
    "y_true = []\n",
    "y_pred = []\n",
    "\n",
    "for _, row in df_test.iterrows():\n",
    "    texto = row[\"PREGUNTA\"]\n",
    "    verdadero = row[\"ES_ABIERTA\"]  # 1=abierta, 0=cerrada\n",
    "    doc = nlp(texto)\n",
    "    pred_label = \"abierta\" if doc.cats[\"abierta\"] > doc.cats[\"cerrada\"] else \"cerrada\"\n",
    "    y_true.append(\"abierta\" if verdadero == 1 else \"cerrada\")\n",
    "    y_pred.append(pred_label)\n",
    "\n",
    "# 🔹 Reporte de métricas\n",
    "print(\"\\n--- Reporte de clasificación ---\")\n",
    "print(classification_report(y_true, y_pred))\n",
    "\n",
    "# 🔹 Matriz de confusión\n",
    "cm = confusion_matrix(y_true, y_pred, labels=[\"abierta\", \"cerrada\"])\n",
    "sns.heatmap(cm, annot=True, fmt=\"d\", cmap=\"Blues\",\n",
    "            xticklabels=[\"abierta\", \"cerrada\"],\n",
    "            yticklabels=[\"abierta\", \"cerrada\"])\n",
    "plt.xlabel(\"Predicción\")\n",
    "plt.ylabel(\"Real\")\n",
    "plt.title(\"Matriz de Confusión\")\n",
    "plt.show()"
   ]
  },
  {
   "cell_type": "code",
   "execution_count": 38,
   "id": "cc84bc33",
   "metadata": {},
   "outputs": [],
   "source": [
    "import spacy\n",
    "nlp = spacy.load(\"modelos/spacy_abierto_cerrado\")\n",
    "# Clasificar nueva pregunta\n",
    "def clasificar_pregunta(texto):\n",
    "    doc = nlp(texto)\n",
    "    scores = doc.cats\n",
    "    pred = max(scores, key=scores.get)\n",
    "    return pred, scores"
   ]
  },
  {
   "cell_type": "code",
   "execution_count": 39,
   "id": "5746f5f5",
   "metadata": {},
   "outputs": [
    {
     "name": "stdout",
     "output_type": "stream",
     "text": [
      "\n",
      "Pregunta: ¿Venden comida en promart?\n",
      "Clasificación: cerrada\n",
      "Scores: {'abierta': 2.173633583879564e-05, 'cerrada': 0.9999783039093018}\n"
     ]
    },
    {
     "name": "stderr",
     "output_type": "stream",
     "text": [
      "/Library/Frameworks/Python.framework/Versions/3.10/lib/python3.10/site-packages/spacy/pipeline/attributeruler.py:137: UserWarning: [W036] The component 'matcher' does not have any patterns defined.\n",
      "  matches = self.matcher(doc, allow_missing=True, as_spans=False)\n"
     ]
    }
   ],
   "source": [
    "ejemplo = \"¿Venden comida en promart?\"\n",
    "etiqueta, scores = clasificar_pregunta(ejemplo)\n",
    "print(f\"\\nPregunta: {ejemplo}\\nClasificación: {etiqueta}\\nScores: {scores}\")"
   ]
  },
  {
   "cell_type": "code",
   "execution_count": 40,
   "id": "c0374caa",
   "metadata": {},
   "outputs": [],
   "source": [
    "def esAbierta(texto):\n",
    "    doc = nlp(texto)\n",
    "    scores = doc.cats\n",
    "    pred = max(scores, key=scores.get)\n",
    "    return pred!='cerrada'"
   ]
  },
  {
   "cell_type": "code",
   "execution_count": 43,
   "id": "28ad9be2",
   "metadata": {},
   "outputs": [
    {
     "data": {
      "text/plain": [
       "False"
      ]
     },
     "execution_count": 43,
     "metadata": {},
     "output_type": "execute_result"
    }
   ],
   "source": [
    "esAbierta('¿Se puede usar una cocina en el agua?')"
   ]
  },
  {
   "cell_type": "markdown",
   "id": "113c1ba3",
   "metadata": {},
   "source": [
    "# Selector de chunks"
   ]
  },
  {
   "cell_type": "code",
   "execution_count": 1,
   "id": "4921ca47",
   "metadata": {},
   "outputs": [
    {
     "ename": "NameError",
     "evalue": "name 'marcas' is not defined",
     "output_type": "error",
     "traceback": [
      "\u001b[0;31m---------------------------------------------------------------------------\u001b[0m",
      "\u001b[0;31mNameError\u001b[0m                                 Traceback (most recent call last)",
      "Cell \u001b[0;32mIn[1], line 13\u001b[0m\n\u001b[1;32m     10\u001b[0m \u001b[38;5;66;03m# Generar patrones desde listas\u001b[39;00m\n\u001b[1;32m     11\u001b[0m patterns \u001b[38;5;241m=\u001b[39m []\n\u001b[0;32m---> 13\u001b[0m \u001b[38;5;28;01mfor\u001b[39;00m marca \u001b[38;5;129;01min\u001b[39;00m \u001b[43mmarcas\u001b[49m:\n\u001b[1;32m     14\u001b[0m     patterns\u001b[38;5;241m.\u001b[39mappend({\u001b[38;5;124m\"\u001b[39m\u001b[38;5;124mlabel\u001b[39m\u001b[38;5;124m\"\u001b[39m: \u001b[38;5;124m\"\u001b[39m\u001b[38;5;124mMARCA\u001b[39m\u001b[38;5;124m\"\u001b[39m, \u001b[38;5;124m\"\u001b[39m\u001b[38;5;124mpattern\u001b[39m\u001b[38;5;124m\"\u001b[39m: marca})\n\u001b[1;32m     16\u001b[0m \u001b[38;5;28;01mfor\u001b[39;00m modelo \u001b[38;5;129;01min\u001b[39;00m modeloss:\n",
      "\u001b[0;31mNameError\u001b[0m: name 'marcas' is not defined"
     ]
    }
   ],
   "source": [
    "import spacy\n",
    "#from spacy.pipeline import EntityRuler\n",
    "\n",
    "# Cargar modelo de spaCy\n",
    "nlp = spacy.blank(\"es\")  # Usamos un modelo vacío en español\n",
    "\n",
    "# Crear una regla por cada entidad\n",
    "ruler = nlp.add_pipe(\"entity_ruler\")\n",
    "\n",
    "# Generar patrones desde listas\n",
    "patterns = []\n",
    "\n",
    "for marca in marcas:\n",
    "    patterns.append({\"label\": \"MARCA\", \"pattern\": marca})\n",
    "\n",
    "for modelo in modeloss:\n",
    "    patterns.append({\"label\": \"MODELO\", \"pattern\": modelo})\n",
    "\n",
    "for anio in ['2014','2015','2016','2017','2018','2019','2020','2021','2022','2023','2024','2025']:\n",
    "    patterns.append({\"label\": \"AÑO\", \"pattern\": anio})\n",
    "\n",
    "\n",
    "# Cargar reglas al EntityRuler\n",
    "ruler.add_patterns(patterns)\n",
    "\n",
    "# Texto de prueba\n",
    "texto = \"\"\"\n",
    "Necesito una bateria para un mi audi modelo Q5 del año 2025.\n",
    "Tambien uno para el mi carro modelo GRAND PLUS de BAIC MOTOR del 2014\n",
    "\"\"\"\n",
    "\n",
    "# Procesar texto\n",
    "doc = nlp(texto.upper())\n",
    "\n",
    "# Mostrar entidades detectadas\n",
    "for ent in doc.ents:\n",
    "    print(f\"{ent.text} → {ent.label_}\")"
   ]
  },
  {
   "cell_type": "code",
   "execution_count": 2,
   "id": "4fa258d0",
   "metadata": {},
   "outputs": [],
   "source": [
    "import spacy\n",
    "from spacy.matcher import Matcher\n",
    "\n",
    "# Carga modelo base (español)\n",
    "nlp = spacy.load(\"es_core_news_sm\")"
   ]
  },
  {
   "cell_type": "code",
   "execution_count": 25,
   "id": "7b985da6",
   "metadata": {},
   "outputs": [
    {
     "name": "stdout",
     "output_type": "stream",
     "text": [
      "¿Tienen sillas plegables? → ['CONSULTA_PRODUCTO']\n",
      "Busco una lámpara de escritorio. → ['CONSULTA_PRODUCTO']\n",
      "¿Cual es el peso del taladro? → ['FICHA_TECNICA']\n",
      "¿Es resistente al agua? → ['FICHA_TECNICA']\n",
      "¿Tienen este producto en descuento? → ['CONSULTA_PRODUCTO']\n",
      "¿que voltaje tiene el microondas? → ['FICHA_TECNICA']\n",
      "Para que sirve una cocina? → ['DESCRIPCION']\n",
      "venden camas? → ['CONSULTA_PRODUCTO']\n",
      "que cama me recomiendan? → ['RECOMENDACION']\n"
     ]
    }
   ],
   "source": [
    "import spacy\n",
    "from spacy.matcher import Matcher\n",
    "\n",
    "nlp = spacy.load(\"es_core_news_sm\")\n",
    "matcher = Matcher(nlp.vocab)\n",
    "\n",
    "# -----------------------\n",
    "# Patrones de consulta general de producto\n",
    "producto_patterns = [\n",
    "    [{\"LOWER\": {\"IN\": [\"tienen\", \"hay\", \"venden\", \"disponible\"]}}, {\"POS\": \"NOUN\"}],\n",
    "    [{\"LOWER\": \"busco\"}, {\"POS\": \"DET\", \"OP\": \"?\"}, {\"POS\": \"NOUN\"}],\n",
    "    [{\"LOWER\": {\"IN\": [\"necesito\", \"quisiera\"]}}, {\"POS\": \"DET\", \"OP\": \"?\"}, {\"POS\": \"NOUN\"}],\n",
    "    [{\"LOWER\": {\"IN\": [\"tienen\", \"hay\"]}}, {\"LOWER\": {\"IN\": [\"descuento\", \"promocion\", \"oferta\"]}}],\n",
    "    [{\"LOWER\": \"este\"}, {\"LOWER\": \"producto\"}, {\"LOWER\": \"en\"}, {\"LOWER\": {\"IN\": [\"oferta\", \"descuento\"]}}],\n",
    "    [{\"LOWER\": \"está\"}, {\"LOWER\": \"en\"}, {\"LOWER\": {\"IN\": [\"oferta\", \"promocion\", \"rebaja\"]}}],\n",
    "    [{\"LOWER\": \"precio\"}, {\"LOWER\": \"rebajado\"}]\n",
    "]\n",
    "\n",
    "# Patrones de ficha técnica\n",
    "ficha_patterns = [\n",
    "    [{\"LOWER\": {\"IN\": [\"peso\", \"material\", \"garantia\", \"dimensiones\", \"voltaje\", \"capacidad\", \"watts\"]}}],\n",
    "    [{\"LOWER\": {\"IN\": [\"es\"]}}, {\"LOWER\": {\"IN\": [\"resistente\", \"impermeable\", \"inoxidable\"]}}],\n",
    "    [{\"LOWER\": \"de\"}, {\"LOWER\": \"que\"}, {\"LOWER\": \"material\"}, {\"LOWER\": \"es\"}]\n",
    "]\n",
    "\n",
    "descripcion_patterns = [\n",
    "    [{\"LOWER\": \"que\"}, {\"LOWER\": \"es\"}],\n",
    "    [{\"LOWER\": \"para\"}, {\"LOWER\": \"que\"}, {\"LOWER\": \"sirve\"}],\n",
    "    [{\"LOWER\": \"cual\"}, {\"LOWER\": \"es\"}, {\"LOWER\": \"su\"}, {\"LOWER\": \"funcion\"}],\n",
    "    [{\"LOWER\": \"como\"}, {\"LOWER\": \"funciona\"}],\n",
    "    [{\"LOWER\": \"que\"}, {\"LOWER\": \"hace\"}],\n",
    "    [{\"LOWER\": {\"IN\": [\"describe\", \"describirme\", \"puedes\", \"podrías\"]}}, {\"LOWER\": {\"IN\": [\"esto\", \"este\", \"producto\", \"articulo\", \"objeto\"]}}],\n",
    "    [{\"LOWER\": \"que\"}, {\"LOWER\": \"características\"}, {\"LOWER\": \"tiene\"}],\n",
    "]\n",
    "\n",
    "recomendacion_patterns = [\n",
    "    [{\"LOWER\": \"que\"}, {\"LOWER\": \"me\"}, {\"LEMMA\": \"recomendar\"}],\n",
    "    [{\"LOWER\": \"cual\"}, {\"LOWER\": \"me\"}, {\"LEMMA\": \"recomendar\"}],\n",
    "    [{\"LOWER\": \"que\"}, {\"LOWER\": \"me\"}, {\"LEMMA\": \"sugerir\"}],\n",
    "    [{\"LOWER\": \"cual\"}, {\"LOWER\": \"es\"}, {\"LOWER\": {\"IN\": [\"mejor\", \"más\", \"mas\"]}}, {\"OP\": \"*\"}],\n",
    "    [{\"LOWER\": \"que\"}, {\"LEMMA\": \"convenir\"}, {\"OP\": \"*\"}],\n",
    "    [{\"LEMMA\": {\"IN\": [\"poder\", \"recomendar\"]}}, {\"LOWER\": {\"IN\": [\"una\", \"un\", \"algo\"]}, \"OP\": \"?\"}]\n",
    "]\n",
    "\n",
    "\n",
    "# Agregar múltiples categorías al mismo matcher\n",
    "matcher.add(\"CONSULTA_PRODUCTO\", producto_patterns)\n",
    "matcher.add(\"FICHA_TECNICA\", ficha_patterns)\n",
    "matcher.add(\"DESCRIPCION\", descripcion_patterns)\n",
    "matcher.add(\"RECOMENDACION\", recomendacion_patterns)\n",
    "\n",
    "# -----------------------\n",
    "# Clasificador de frases según categoría detectada\n",
    "\n",
    "def clasificar_consulta(texto):\n",
    "    doc = nlp(texto)\n",
    "    matches = matcher(doc)\n",
    "    etiquetas_detectadas = set()\n",
    "    for match_id, start, end in matches:\n",
    "        etiqueta = nlp.vocab.strings[match_id]\n",
    "        etiquetas_detectadas.add(etiqueta)\n",
    "    return list(etiquetas_detectadas) if etiquetas_detectadas else [\"NINGUNA\"]\n",
    "\n",
    "# -----------------------\n",
    "# Pruebas\n",
    "\n",
    "ejemplos = [\n",
    "    \"¿Tienen sillas plegables?\",\n",
    "    \"Busco una lámpara de escritorio.\",\n",
    "    \"¿Cual es el peso del taladro?\",\n",
    "    \"¿Es resistente al agua?\",\n",
    "    \"¿Tienen este producto en descuento?\",\n",
    "    \"¿que voltaje tiene el microondas?\",\n",
    "    \"Para que sirve una cocina?\",\n",
    "    \"venden camas?\",\n",
    "    \"que cama me recomiendan?\"\n",
    "]\n",
    "\n",
    "for frase in ejemplos:\n",
    "    categorias = clasificar_consulta(frase)\n",
    "    print(f\"{frase} → {categorias}\")\n"
   ]
  },
  {
   "cell_type": "code",
   "execution_count": 27,
   "id": "fe013655",
   "metadata": {},
   "outputs": [
    {
     "data": {
      "text/plain": [
       "['NINGUNA']"
      ]
     },
     "execution_count": 27,
     "metadata": {},
     "output_type": "execute_result"
    }
   ],
   "source": [
    "clasificar_consulta('que caracteristicas tiene la cama')"
   ]
  }
 ],
 "metadata": {
  "kernelspec": {
   "display_name": "Python 3",
   "language": "python",
   "name": "python3"
  },
  "language_info": {
   "codemirror_mode": {
    "name": "ipython",
    "version": 3
   },
   "file_extension": ".py",
   "mimetype": "text/x-python",
   "name": "python",
   "nbconvert_exporter": "python",
   "pygments_lexer": "ipython3",
   "version": "3.10.11"
  }
 },
 "nbformat": 4,
 "nbformat_minor": 5
}
