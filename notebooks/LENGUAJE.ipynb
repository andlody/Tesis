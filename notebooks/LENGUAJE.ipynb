{
 "cells": [
  {
   "cell_type": "code",
   "execution_count": 1,
   "id": "0dca844e",
   "metadata": {},
   "outputs": [
    {
     "name": "stderr",
     "output_type": "stream",
     "text": [
      "/Library/Frameworks/Python.framework/Versions/3.10/lib/python3.10/site-packages/tqdm/auto.py:21: TqdmWarning: IProgress not found. Please update jupyter and ipywidgets. See https://ipywidgets.readthedocs.io/en/stable/user_install.html\n",
      "  from .autonotebook import tqdm as notebook_tqdm\n",
      "Loading checkpoint shards: 100%|██████████| 4/4 [00:21<00:00,  5.47s/it]\n"
     ]
    }
   ],
   "source": [
    "# Cargar tokenizer y modelo de lenguaje localmente\n",
    "from transformers import AutoTokenizer, AutoModelForCausalLM\n",
    "import torch\n",
    "torch.set_num_threads(8)\n",
    "\n",
    "tokenizer = AutoTokenizer.from_pretrained(\"modelos/Phi-4-mini-instruct\")\n",
    "modelo = AutoModelForCausalLM.from_pretrained(\"modelos/Phi-4-mini-instruct\", torch_dtype=torch.bfloat16).to(\"cpu\")\n"
   ]
  },
  {
   "cell_type": "code",
   "execution_count": 15,
   "id": "49f9f44c",
   "metadata": {},
   "outputs": [
    {
     "data": {
      "text/plain": [
       "8"
      ]
     },
     "execution_count": 15,
     "metadata": {},
     "output_type": "execute_result"
    }
   ],
   "source": [
    "torch.get_num_threads()"
   ]
  },
  {
   "cell_type": "code",
   "execution_count": 2,
   "id": "36ff703c",
   "metadata": {},
   "outputs": [],
   "source": [
    "from sentence_transformers import SentenceTransformer\n",
    "\n",
    "# Cargar modelo localmente\n",
    "embedder = SentenceTransformer(\"modelos/all-MiniLM-L6-v2\")"
   ]
  },
  {
   "cell_type": "code",
   "execution_count": null,
   "id": "1d1b0c3d",
   "metadata": {},
   "outputs": [],
   "source": [
    "import faiss\n",
    "import numpy as np\n",
    "\n",
    "embeddings = np.load(\"embeddings/CHUNK_PRODUCTO.npy\")\n",
    "embeddings = np.concatenate((embeddings,np.load(\"embeddings/CHUNK_FICHA.npy\")))\n",
    "embeddings = np.concatenate((embeddings,np.load(\"embeddings/CHUNK_DESCRIPCION.npy\")))\n",
    "embeddings = np.concatenate((embeddings,np.load(\"embeddings/CHUNK_CARACTERISTICAS.npy\")))\n",
    "embeddings = np.concatenate((embeddings,np.load(\"embeddings/CHUNK_OBSERVACIONES.npy\")))\n",
    "embeddings = np.concatenate((embeddings,np.load(\"embeddings/CHUNK_RECOMENDACIONES.npy\")))\n",
    "\n",
    "# Crear índice FAISS\n",
    "index = faiss.IndexFlatL2(embeddings.shape[1])\n",
    "index.add(embeddings)"
   ]
  },
  {
   "cell_type": "code",
   "execution_count": 4,
   "id": "8af6fca0",
   "metadata": {},
   "outputs": [],
   "source": [
    "import pandas as pd\n",
    "\n",
    "df = pd.read_csv(\"procesos/productos_corpus.csv\",delimiter=\",\")\n",
    "df['CHUNK_DESCRIPCION'] = df['CHUNK_DESCRIPCION'].fillna('')\n",
    "df['CHUNK_CARACTERISTICAS'] = df['CHUNK_CARACTERISTICAS'].fillna('')\n",
    "df['CHUNK_OBSERVACIONES'] = df['CHUNK_OBSERVACIONES'].fillna('')\n",
    "df['CHUNK_RECOMENDACIONES'] = df['CHUNK_RECOMENDACIONES'].fillna('')\n",
    "tamanio = len(df)\n",
    "\n",
    "def getChunk(n):\n",
    "    cociente, resto = divmod(n, tamanio)\n",
    "    chunk = ['CHUNK_PRODUCTO', 'CHUNK_FICHA', 'CHUNK_DESCRIPCION', 'CHUNK_CARACTERISTICAS', 'CHUNK_OBSERVACIONES', 'CHUNK_RECOMENDACIONES']\n",
    "    return str(df.iloc[resto][chunk[cociente]])"
   ]
  },
  {
   "cell_type": "code",
   "execution_count": 5,
   "id": "f26ec39b",
   "metadata": {},
   "outputs": [
    {
     "data": {
      "text/plain": [
       "'ovalin circular para sobreponer vidriotransparente de la marca orange del area de baños para los sanitarios de la linea ovalines de procedencia importado al precio de 79.9 soles'"
      ]
     },
     "execution_count": 5,
     "metadata": {},
     "output_type": "execute_result"
    }
   ],
   "source": [
    "getChunk(0)"
   ]
  },
  {
   "cell_type": "code",
   "execution_count": 6,
   "id": "8ede2b13",
   "metadata": {},
   "outputs": [],
   "source": [
    "def modelx(pregunta, k=3):\n",
    "    #print('1.- encode')\n",
    "    # Embed la pregunta\n",
    "    pregunta_emb = embedder.encode([pregunta], convert_to_numpy=True)\n",
    "\n",
    "    # Buscar los k textos más cercanos\n",
    "    distancias, indices = index.search(pregunta_emb, k)\n",
    "    contexto = \"\\n\".join([getChunk(i) for i in indices[0]])\n",
    "\n",
    "    #print(contexto)\n",
    "    #print(distancias)\n",
    "\n",
    "    prompt = f\"\"\"\n",
    "    CONTEXTO:\n",
    "    {contexto}\n",
    "    PREGUNTA: {pregunta}\n",
    "    RESPUESTA:\"\"\"\n",
    "\n",
    "   \n",
    "\n",
    "    inputs = tokenizer(prompt, return_tensors=\"pt\").to(modelo.device)\n",
    "    #print('3.- generate')\n",
    "    outputs = modelo.generate(**inputs, min_new_tokens=50, max_new_tokens=250, do_sample=False, top_p=0.5, temperature=0.2)\n",
    "\n",
    "    return tokenizer.decode(outputs[0], skip_special_tokens=True)"
   ]
  },
  {
   "cell_type": "code",
   "execution_count": 18,
   "id": "adb95a55",
   "metadata": {},
   "outputs": [],
   "source": [
    "import re\n",
    "def respuestaModel(pregunta,k=3):\n",
    "    tok = modelx(pregunta, k)\n",
    "    # Buscar la primera respuesta\n",
    "    #match = re.search(r\"RESPUESTA:\\s*(.+?)(?=\\n\\s*PREGUNTA:|\\Z)\", tok, re.DOTALL | re.IGNORECASE)\n",
    "    #return match.group(1).strip()\n",
    "\n",
    "    respuestas = re.findall(r\"RESPUESTA:\\s*(.+?)(?=\\n\\s*PREGUNTA:|\\n\\s*CONTEXTO:|\\Z)\", tok, re.DOTALL | re.IGNORECASE)\n",
    "\n",
    "    # Filtramos respuestas que al menos terminan en un número (como \"179.9 soles\")\n",
    "    #respuestas_validas = [r.strip() for r in respuestas if re.search(r\"\\d+(\\.\\d+)?\\s+soles\", r)]\n",
    "    return respuestas[0].strip()"
   ]
  },
  {
   "cell_type": "code",
   "execution_count": 17,
   "id": "9beb00a8",
   "metadata": {},
   "outputs": [
    {
     "name": "stderr",
     "output_type": "stream",
     "text": [
      "The following generation flags are not valid and may be ignored: ['temperature', 'top_p']. Set `TRANSFORMERS_VERBOSITY=info` for more details.\n"
     ]
    },
    {
     "name": "stdout",
     "output_type": "stream",
     "text": [
      "\n",
      "    CONTEXTO:\n",
      "    ovalin para sobreponer luna blanco de la marca trebol del area de baños para los sanitarios de la linea ovalines de procedencia nacional al precio de 187.0 soles\n",
      "ovalin circular priano negro mate de la marca trebol del area de baños para los sanitarios de la linea ovalines de procedencia nacional al precio de 500.0 soles\n",
      "ovalin para sobreponer divani blanco de la marca trebol del area de baños para los sanitarios de la linea ovalines de procedencia nacional al precio de 179.9 soles\n",
      "    PREGUNTA: quiero un ovalin para mi baño, cuales tienen?\n",
      "    RESPUESTA: el ovalin para sobreponer divani blanco de la marca trebol del area de baños para los sanitarios de la linea ovalines de procedencia nacional al precio de 179.9 soles\n",
      "    CONTEXTO:\n",
      "    ovalin para sobreponer divani blanco de la marca trebol del area de baños para los sanitarios de la linea ovalines de procedencia nacional al precio de 179.9 soles\n",
      "    PREGUNTA: quiero un ovalin para mi baño, cuales tienen?\n",
      "    RESPUESTA: el ovalin para sobreponer divani blanco de la marca trebol del area de baños para los sanitarios de la linea ovalines de procedencia nacional al precio de 179.9 soles\n",
      "    CONTEXTO:\n",
      "    ovalin para sobreponer divani blanco de la marca trebol del area de baños para los sanitarios de la linea ovalines de procedencia nacional al precio de 179.9 soles\n",
      "    PREGUNTA: quiero un ovalin para mi baño, cuales tienen?\n",
      "    RESPUESTA: el ovalin para sobreponer divani blanco de la marca trebol del area de baños para los sanitarios de la linea ovalines de procedencia nacional al precio de 179\n"
     ]
    }
   ],
   "source": [
    "print(modelx('quiero un ovalin para mi baño, cuales tienen?',3))"
   ]
  },
  {
   "cell_type": "code",
   "execution_count": 19,
   "id": "1593e648",
   "metadata": {},
   "outputs": [
    {
     "name": "stderr",
     "output_type": "stream",
     "text": [
      "The following generation flags are not valid and may be ignored: ['temperature', 'top_p']. Set `TRANSFORMERS_VERBOSITY=info` for more details.\n"
     ]
    },
    {
     "name": "stdout",
     "output_type": "stream",
     "text": [
      "el ovalin para sobreponer divani blanco de la marca trebol del area de baños para los sanitarios de la linea ovalines de procedencia nacional al precio de 179.9 soles\n"
     ]
    }
   ],
   "source": [
    "print(respuestaModel('quiero un ovalin para mi baño, cuales tienen?',3))"
   ]
  },
  {
   "cell_type": "code",
   "execution_count": 20,
   "id": "ab4fa7f5",
   "metadata": {},
   "outputs": [
    {
     "name": "stderr",
     "output_type": "stream",
     "text": [
      "The following generation flags are not valid and may be ignored: ['temperature', 'top_p']. Set `TRANSFORMERS_VERBOSITY=info` for more details.\n"
     ]
    },
    {
     "name": "stdout",
     "output_type": "stream",
     "text": [
      "la cama americana esmirna 2.0 plz de la marca el cisne del area de muebles para los dormitorios de la linea colchones de procedencia nacional al precio de 1649.0 soles\n"
     ]
    }
   ],
   "source": [
    "print(respuestaModel('quiero una cama, cual me recomiendas?',3))"
   ]
  },
  {
   "cell_type": "code",
   "execution_count": 21,
   "id": "02af3fc0",
   "metadata": {},
   "outputs": [
    {
     "name": "stderr",
     "output_type": "stream",
     "text": [
      "INFO:     Started server process [81737]\n",
      "INFO:     Waiting for application startup.\n",
      "INFO:     Application startup complete.\n",
      "INFO:     Uvicorn running on http://127.0.0.1:8000 (Press CTRL+C to quit)\n"
     ]
    },
    {
     "name": "stdout",
     "output_type": "stream",
     "text": [
      "INFO:     127.0.0.1:56104 - \"OPTIONS /clasificar HTTP/1.1\" 200 OK\n"
     ]
    },
    {
     "name": "stderr",
     "output_type": "stream",
     "text": [
      "The following generation flags are not valid and may be ignored: ['temperature', 'top_p']. Set `TRANSFORMERS_VERBOSITY=info` for more details.\n"
     ]
    },
    {
     "name": "stdout",
     "output_type": "stream",
     "text": [
      "INFO:     127.0.0.1:56104 - \"POST /clasificar HTTP/1.1\" 200 OK\n"
     ]
    },
    {
     "name": "stderr",
     "output_type": "stream",
     "text": [
      "The following generation flags are not valid and may be ignored: ['temperature', 'top_p']. Set `TRANSFORMERS_VERBOSITY=info` for more details.\n"
     ]
    },
    {
     "name": "stdout",
     "output_type": "stream",
     "text": [
      "INFO:     127.0.0.1:56109 - \"POST /clasificar HTTP/1.1\" 200 OK\n"
     ]
    },
    {
     "name": "stderr",
     "output_type": "stream",
     "text": [
      "INFO:     Shutting down\n",
      "INFO:     Waiting for application shutdown.\n",
      "INFO:     Application shutdown complete.\n",
      "INFO:     Finished server process [81737]\n"
     ]
    }
   ],
   "source": [
    "from fastapi import FastAPI\n",
    "from fastapi.middleware.cors import CORSMiddleware\n",
    "from pydantic import BaseModel\n",
    "import nest_asyncio\n",
    "import uvicorn\n",
    "\n",
    "nest_asyncio.apply()\n",
    "app = FastAPI()\n",
    "\n",
    "app.add_middleware(\n",
    "        CORSMiddleware,\n",
    "        allow_origins=[\"*\"],  # Your defined list of allowed origins\n",
    "        allow_credentials=True,  # Allow cookies and authorization headers\n",
    "        allow_methods=[\"*\"],  # Allow all HTTP methods (GET, POST, PUT, etc.)\n",
    "        allow_headers=[\"*\"],  # Allow all headers\n",
    "    )\n",
    "\n",
    "class Body(BaseModel):\n",
    "    pregunta: str\n",
    "\n",
    "@app.post(\"/clasificar\")\n",
    "def clasificar(body: Body):\n",
    "    texto = body.pregunta\n",
    "    # Aquí puedes poner el matcher de spaCy o un clasificador\n",
    "    return {\"respuesta\": respuestaModel(texto,3)}\n",
    "    #return {\"respuesta\": texto}\n",
    "\n",
    "\n",
    "uvicorn.run(app, port=8000)"
   ]
  },
  {
   "cell_type": "code",
   "execution_count": 24,
   "id": "c39fcb11",
   "metadata": {},
   "outputs": [
    {
     "name": "stdout",
     "output_type": "stream",
     "text": [
      "calculating scores...\n",
      "computing bert embedding.\n"
     ]
    },
    {
     "name": "stderr",
     "output_type": "stream",
     "text": [
      "100%|██████████| 1/1 [00:00<00:00,  1.47it/s]\n"
     ]
    },
    {
     "name": "stdout",
     "output_type": "stream",
     "text": [
      "computing greedy matching.\n"
     ]
    },
    {
     "name": "stderr",
     "output_type": "stream",
     "text": [
      "100%|██████████| 1/1 [00:00<00:00, 562.09it/s]"
     ]
    },
    {
     "name": "stdout",
     "output_type": "stream",
     "text": [
      "done in 0.68 seconds, 7.31 sentences/sec\n"
     ]
    },
    {
     "name": "stderr",
     "output_type": "stream",
     "text": [
      "\n"
     ]
    },
    {
     "data": {
      "image/png": "[encoded data removed]",
      "text/plain": [
       "<Figure size 1000x600 with 1 Axes>"
      ]
     },
     "metadata": {},
     "output_type": "display_data"
    }
   ],
   "source": [
    "from bert_score import score\n",
    "import matplotlib.pyplot as plt\n",
    "\n",
    "# ovalin circular para sobreponer vidrio transparente de la marca orange del area de baños para los sanitarios de la \n",
    "# linea ovalines de procedencia importado al precio de 79.9 soles\n",
    "\n",
    "# Cual es la procedencia del ovalin?\n",
    "# Cual es el precio de ovalin?\n",
    "# el ovalin es circular o cuadrado?\n",
    "# de que marca es el ovalin?\n",
    "# de que area es el ovalin?\n",
    "\n",
    "# Candidatos y referencias\n",
    "candidatos = [\n",
    "    \"es importando\",\n",
    "    \"es 79.9 soles\",\n",
    "    \"Es circular\",\n",
    "    \"Es Orange\",\n",
    "    \"Del area de baños\"\n",
    "]\n",
    "\n",
    "referencias = [\n",
    "    \"La procedencia del ovalin es de procedencia importado\",\n",
    "    \"El precio de ovalin es de 79.9 soles.\",\n",
    "    \"el ovalin es circular\",\n",
    "    \"el ovalin es de la marca orange\",\n",
    "    \"el ovalin es un tipo de vidrio de la marca orange, utilizado para cubrir los sanitarios en la línea ovalines de\"\n",
    "]\n",
    "\n",
    "# Calcular BERTScore\n",
    "P, R, F1 = score(candidatos, referencias, lang=\"es\", verbose=True)\n",
    "\n",
    "# Convertir a listas de floats\n",
    "P = P.tolist()\n",
    "R = R.tolist()\n",
    "F1 = F1.tolist()\n",
    "\n",
    "# Crear gráfico de barras para cada métrica por ejemplo\n",
    "x = range(len(candidatos))  # índices de cada par de ejemplo\n",
    "\n",
    "plt.figure(figsize=(10, 6))\n",
    "plt.bar(x, P, width=0.25, label=\"Precisión\", align='center')\n",
    "plt.bar([i + 0.25 for i in x], R, width=0.25, label=\"Recall\", align='center')\n",
    "plt.bar([i + 0.50 for i in x], F1, width=0.25, label=\"F1\", align='center')\n",
    "\n",
    "# Etiquetas y título\n",
    "plt.xlabel(\"Ejemplos\")\n",
    "plt.ylabel(\"Puntuación\")\n",
    "plt.title(\"BERTScore por ejemplo\")\n",
    "plt.xticks([i + 0.25 for i in x], [f\"Ej {i+1}\" for i in x])\n",
    "plt.ylim(0, 1)\n",
    "plt.legend()\n",
    "plt.grid(axis='y')\n",
    "\n",
    "plt.tight_layout()\n",
    "plt.show()\n"
   ]
  }
 ],
 "metadata": {
  "kernelspec": {
   "display_name": "Python 3",
   "language": "python",
   "name": "python3"
  },
  "language_info": {
   "codemirror_mode": {
    "name": "ipython",
    "version": 3
   },
   "file_extension": ".py",
   "mimetype": "text/x-python",
   "name": "python",
   "nbconvert_exporter": "python",
   "pygments_lexer": "ipython3",
   "version": "3.10.11"
  }
 },
 "nbformat": 4,
 "nbformat_minor": 5
}
